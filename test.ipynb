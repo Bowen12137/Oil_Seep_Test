{
 "cells": [
  {
   "cell_type": "code",
   "execution_count": 2,
   "id": "initial_id",
   "metadata": {},
   "outputs": [
    {
     "name": "stdout",
     "output_type": "stream",
     "text": [
      "Running in a virtual environment: False\n",
      "PyTorch installed: True\n",
      "CUDA is available! PyTorch is using GPU: NVIDIA A100-SXM4-40GB MIG 7g.40gb\n",
      "Number of GPUs available: 1\n",
      "Current GPU Memory Allocated: 0 bytes\n",
      "Current GPU Memory Cached: 0 bytes\n"
     ]
    }
   ],
   "source": [
    "import os\n",
    "import sys\n",
    "\n",
    "def check_virtual_environment():\n",
    "    \"\"\"Check if the script is running in a virtual environment.\"\"\"\n",
    "    if hasattr(sys, 'real_prefix') or (hasattr(sys, 'base_prefix') and sys.base_prefix != sys.prefix):\n",
    "        return True\n",
    "    return False\n",
    "\n",
    "def check_pytorch_installed():\n",
    "    \"\"\"Check if PyTorch is installed.\"\"\"\n",
    "    try:\n",
    "        import torch\n",
    "        return True\n",
    "    except ImportError:\n",
    "        return False\n",
    "\n",
    "def get_gpu_info():\n",
    "    \"\"\"Get GPU information using PyTorch.\"\"\"\n",
    "    import torch\n",
    "    if torch.cuda.is_available():\n",
    "        print(f\"CUDA is available! PyTorch is using GPU: {torch.cuda.get_device_name(0)}\")\n",
    "        print(f\"Number of GPUs available: {torch.cuda.device_count()}\")\n",
    "        print(f\"Current GPU Memory Allocated: {torch.cuda.memory_allocated(0)} bytes\")\n",
    "        print(f\"Current GPU Memory Cached: {torch.cuda.memory_reserved(0)} bytes\")\n",
    "    else:\n",
    "        print(\"CUDA is not available. PyTorch is using CPU.\")\n",
    "\n",
    "def main():\n",
    "    # 1. Check if running in a virtual environment\n",
    "    in_venv = check_virtual_environment()\n",
    "    print(f\"Running in a virtual environment: {in_venv}\")\n",
    "\n",
    "    # 2. Check if PyTorch is installed\n",
    "    pytorch_installed = check_pytorch_installed()\n",
    "    print(f\"PyTorch installed: {pytorch_installed}\")\n",
    "\n",
    "    # 3. If PyTorch is installed, check for GPU information\n",
    "    if pytorch_installed:\n",
    "        get_gpu_info()\n",
    "    else:\n",
    "        print(\"PyTorch is not installed. Please install it with 'pip install torch'.\")\n",
    "\n",
    "if __name__ == \"__main__\":\n",
    "    main()\n"
   ]
  },
  {
   "cell_type": "code",
   "execution_count": null,
   "id": "8d90ae23-0c08-4caf-84c9-e197de24b8d3",
   "metadata": {},
   "outputs": [],
   "source": []
  }
 ],
 "metadata": {
  "kernelspec": {
   "display_name": "oil-seep",
   "language": "python",
   "name": "newenv"
  },
  "language_info": {
   "codemirror_mode": {
    "name": "ipython",
    "version": 3
   },
   "file_extension": ".py",
   "mimetype": "text/x-python",
   "name": "python",
   "nbconvert_exporter": "python",
   "pygments_lexer": "ipython3",
   "version": "3.8.20"
  }
 },
 "nbformat": 4,
 "nbformat_minor": 5
}
